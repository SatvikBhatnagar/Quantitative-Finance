{
 "cells": [
  {
   "cell_type": "code",
   "execution_count": 1,
   "metadata": {},
   "outputs": [
    {
     "name": "stdout",
     "output_type": "stream",
     "text": [
      "[*********************100%***********************]  2 of 2 completed\n"
     ]
    },
    {
     "data": {
      "text/html": [
       "<div>\n",
       "<style scoped>\n",
       "    .dataframe tbody tr th:only-of-type {\n",
       "        vertical-align: middle;\n",
       "    }\n",
       "\n",
       "    .dataframe tbody tr th {\n",
       "        vertical-align: top;\n",
       "    }\n",
       "\n",
       "    .dataframe thead th {\n",
       "        text-align: right;\n",
       "    }\n",
       "</style>\n",
       "<table border=\"1\" class=\"dataframe\">\n",
       "  <thead>\n",
       "    <tr style=\"text-align: right;\">\n",
       "      <th></th>\n",
       "      <th>Adj Close</th>\n",
       "      <th>Close</th>\n",
       "      <th>High</th>\n",
       "      <th>Low</th>\n",
       "      <th>Open</th>\n",
       "      <th>Volume</th>\n",
       "    </tr>\n",
       "    <tr>\n",
       "      <th>Date</th>\n",
       "      <th></th>\n",
       "      <th></th>\n",
       "      <th></th>\n",
       "      <th></th>\n",
       "      <th></th>\n",
       "      <th></th>\n",
       "    </tr>\n",
       "  </thead>\n",
       "  <tbody>\n",
       "    <tr>\n",
       "      <th>2010-01-04</th>\n",
       "      <td>6.496294</td>\n",
       "      <td>7.643214</td>\n",
       "      <td>7.660714</td>\n",
       "      <td>7.585000</td>\n",
       "      <td>7.622500</td>\n",
       "      <td>493729600</td>\n",
       "    </tr>\n",
       "    <tr>\n",
       "      <th>2010-01-05</th>\n",
       "      <td>6.507525</td>\n",
       "      <td>7.656429</td>\n",
       "      <td>7.699643</td>\n",
       "      <td>7.616071</td>\n",
       "      <td>7.664286</td>\n",
       "      <td>601904800</td>\n",
       "    </tr>\n",
       "    <tr>\n",
       "      <th>2010-01-06</th>\n",
       "      <td>6.404013</td>\n",
       "      <td>7.534643</td>\n",
       "      <td>7.686786</td>\n",
       "      <td>7.526786</td>\n",
       "      <td>7.656429</td>\n",
       "      <td>552160000</td>\n",
       "    </tr>\n",
       "    <tr>\n",
       "      <th>2010-01-07</th>\n",
       "      <td>6.392176</td>\n",
       "      <td>7.520714</td>\n",
       "      <td>7.571429</td>\n",
       "      <td>7.466071</td>\n",
       "      <td>7.562500</td>\n",
       "      <td>477131200</td>\n",
       "    </tr>\n",
       "    <tr>\n",
       "      <th>2010-01-08</th>\n",
       "      <td>6.434674</td>\n",
       "      <td>7.570714</td>\n",
       "      <td>7.571429</td>\n",
       "      <td>7.466429</td>\n",
       "      <td>7.510714</td>\n",
       "      <td>447610800</td>\n",
       "    </tr>\n",
       "    <tr>\n",
       "      <th>...</th>\n",
       "      <td>...</td>\n",
       "      <td>...</td>\n",
       "      <td>...</td>\n",
       "      <td>...</td>\n",
       "      <td>...</td>\n",
       "      <td>...</td>\n",
       "    </tr>\n",
       "    <tr>\n",
       "      <th>2023-06-23</th>\n",
       "      <td>186.679993</td>\n",
       "      <td>186.679993</td>\n",
       "      <td>187.559998</td>\n",
       "      <td>185.009995</td>\n",
       "      <td>185.550003</td>\n",
       "      <td>53079300</td>\n",
       "    </tr>\n",
       "    <tr>\n",
       "      <th>2023-06-26</th>\n",
       "      <td>185.270004</td>\n",
       "      <td>185.270004</td>\n",
       "      <td>188.050003</td>\n",
       "      <td>185.229996</td>\n",
       "      <td>186.830002</td>\n",
       "      <td>48088700</td>\n",
       "    </tr>\n",
       "    <tr>\n",
       "      <th>2023-06-27</th>\n",
       "      <td>188.059998</td>\n",
       "      <td>188.059998</td>\n",
       "      <td>188.389999</td>\n",
       "      <td>185.669998</td>\n",
       "      <td>185.889999</td>\n",
       "      <td>50730800</td>\n",
       "    </tr>\n",
       "    <tr>\n",
       "      <th>2023-06-28</th>\n",
       "      <td>189.250000</td>\n",
       "      <td>189.250000</td>\n",
       "      <td>189.899994</td>\n",
       "      <td>187.600006</td>\n",
       "      <td>187.929993</td>\n",
       "      <td>51216800</td>\n",
       "    </tr>\n",
       "    <tr>\n",
       "      <th>2023-06-29</th>\n",
       "      <td>189.589996</td>\n",
       "      <td>189.589996</td>\n",
       "      <td>190.070007</td>\n",
       "      <td>188.940002</td>\n",
       "      <td>189.080002</td>\n",
       "      <td>46347300</td>\n",
       "    </tr>\n",
       "  </tbody>\n",
       "</table>\n",
       "<p>3395 rows × 6 columns</p>\n",
       "</div>"
      ],
      "text/plain": [
       "             Adj Close       Close        High         Low        Open  \\\n",
       "Date                                                                     \n",
       "2010-01-04    6.496294    7.643214    7.660714    7.585000    7.622500   \n",
       "2010-01-05    6.507525    7.656429    7.699643    7.616071    7.664286   \n",
       "2010-01-06    6.404013    7.534643    7.686786    7.526786    7.656429   \n",
       "2010-01-07    6.392176    7.520714    7.571429    7.466071    7.562500   \n",
       "2010-01-08    6.434674    7.570714    7.571429    7.466429    7.510714   \n",
       "...                ...         ...         ...         ...         ...   \n",
       "2023-06-23  186.679993  186.679993  187.559998  185.009995  185.550003   \n",
       "2023-06-26  185.270004  185.270004  188.050003  185.229996  186.830002   \n",
       "2023-06-27  188.059998  188.059998  188.389999  185.669998  185.889999   \n",
       "2023-06-28  189.250000  189.250000  189.899994  187.600006  187.929993   \n",
       "2023-06-29  189.589996  189.589996  190.070007  188.940002  189.080002   \n",
       "\n",
       "               Volume  \n",
       "Date                   \n",
       "2010-01-04  493729600  \n",
       "2010-01-05  601904800  \n",
       "2010-01-06  552160000  \n",
       "2010-01-07  477131200  \n",
       "2010-01-08  447610800  \n",
       "...               ...  \n",
       "2023-06-23   53079300  \n",
       "2023-06-26   48088700  \n",
       "2023-06-27   50730800  \n",
       "2023-06-28   51216800  \n",
       "2023-06-29   46347300  \n",
       "\n",
       "[3395 rows x 6 columns]"
      ]
     },
     "execution_count": 1,
     "metadata": {},
     "output_type": "execute_result"
    }
   ],
   "source": [
    "import yfinance as yf\n",
    "\n",
    "def fix_cols(df):\n",
    "    columns = df.columns\n",
    "    outer = [col[0] for col in columns]\n",
    "    df.columns = outer\n",
    "    return df\n",
    "\n",
    "def tweak_data():\n",
    "    raw = yf.download('SPY AAPL', start='2010-01-01', end= '2023-06-30')\n",
    "\n",
    "    return(raw\n",
    "           .iloc[:, ::2]\n",
    "           .pipe(fix_cols)\n",
    "    )\n",
    "\n",
    "raw = tweak_data()\n",
    "raw"
   ]
  },
  {
   "cell_type": "code",
   "execution_count": 4,
   "metadata": {},
   "outputs": [
    {
     "data": {
      "text/plain": [
       "<Axes: xlabel='Date'>"
      ]
     },
     "execution_count": 4,
     "metadata": {},
     "output_type": "execute_result"
    },
    {
     "data": {
      "image/png": "[encoded data removed]",
      "text/plain": [
       "<Figure size 640x480 with 1 Axes>"
      ]
     },
     "metadata": {},
     "output_type": "display_data"
    }
   ],
   "source": [
    "(raw\n",
    "  .Close\n",
    "  .plot()\n",
    " )"
   ]
  },
  {
   "cell_type": "code",
   "execution_count": 6,
   "metadata": {},
   "outputs": [
    {
     "data": {
      "text/plain": [
       "Date\n",
       "2010-01-04      7.643214\n",
       "2010-01-05      7.656429\n",
       "2010-01-06      7.534643\n",
       "2010-01-07      7.520714\n",
       "2010-01-08      7.570714\n",
       "                 ...    \n",
       "2023-06-23    186.679993\n",
       "2023-06-26    185.270004\n",
       "2023-06-27    188.059998\n",
       "2023-06-28    189.250000\n",
       "2023-06-29    189.589996\n",
       "Name: Close, Length: 3395, dtype: float64"
      ]
     },
     "execution_count": 6,
     "metadata": {},
     "output_type": "execute_result"
    }
   ],
   "source": [
    "(raw\n",
    " .Close\n",
    ")"
   ]
  },
  {
   "cell_type": "code",
   "execution_count": 8,
   "metadata": {},
   "outputs": [
    {
     "data": {
      "text/plain": [
       "<pandas.core.resample.DatetimeIndexResampler object at 0x7fb7791487d0>"
      ]
     },
     "execution_count": 8,
     "metadata": {},
     "output_type": "execute_result"
    }
   ],
   "source": [
    "(raw\n",
    " .resample('M') #offset alias\n",
    ")"
   ]
  },
  {
   "cell_type": "code",
   "execution_count": 9,
   "metadata": {},
   "outputs": [
    {
     "data": {
      "text/plain": [
       "<pandas.core.groupby.generic.SeriesGroupBy object at 0x7fb779025b90>"
      ]
     },
     "execution_count": 9,
     "metadata": {},
     "output_type": "execute_result"
    }
   ],
   "source": [
    "(raw\n",
    " .resample('M')\n",
    " .Close\n",
    " )"
   ]
  },
  {
   "cell_type": "code",
   "execution_count": 15,
   "metadata": {},
   "outputs": [
    {
     "data": {
      "text/plain": [
       "Date\n",
       "2010-01-31      7.418402\n",
       "2010-02-28      7.099850\n",
       "2010-03-31      7.978960\n",
       "2010-04-30      8.969592\n",
       "2010-05-31      8.980768\n",
       "                 ...    \n",
       "2023-02-28    150.968421\n",
       "2023-03-31    154.964782\n",
       "2023-04-30    165.045790\n",
       "2023-05-31    172.622728\n",
       "2023-06-30    183.799000\n",
       "Freq: M, Name: Close, Length: 162, dtype: float64"
      ]
     },
     "execution_count": 15,
     "metadata": {},
     "output_type": "execute_result"
    }
   ],
   "source": [
    "# we have to call an aggregation method\n",
    "# each of the Closing price is the mean of the closing prices that month\n",
    "(raw\n",
    " .resample('M')\n",
    " .Close\n",
    " .mean()\n",
    " )"
   ]
  },
  {
   "cell_type": "code",
   "execution_count": 12,
   "metadata": {},
   "outputs": [
    {
     "data": {
      "text/plain": [
       "Date\n",
       "2010-01-31      7.418402\n",
       "2010-03-31      7.581267\n",
       "2010-05-31      8.975044\n",
       "2010-07-31      9.218563\n",
       "2010-09-30      9.368754\n",
       "                 ...    \n",
       "2022-11-30    145.428332\n",
       "2023-01-31    136.853414\n",
       "2023-03-31    153.156904\n",
       "2023-05-31    169.111464\n",
       "2023-07-31    183.799000\n",
       "Freq: 2M, Name: Close, Length: 82, dtype: float64"
      ]
     },
     "execution_count": 12,
     "metadata": {},
     "output_type": "execute_result"
    }
   ],
   "source": [
    "#for every 2 months\n",
    "(raw\n",
    " .resample('2M')\n",
    " .Close\n",
    " .mean()\n",
    " )"
   ]
  },
  {
   "cell_type": "code",
   "execution_count": 14,
   "metadata": {},
   "outputs": [
    {
     "data": {
      "text/plain": [
       "<Axes: xlabel='Date'>"
      ]
     },
     "execution_count": 14,
     "metadata": {},
     "output_type": "execute_result"
    },
    {
     "data": {
      "image/png": "[encoded data removed]",
      "text/plain": [
       "<Figure size 640x480 with 1 Axes>"
      ]
     },
     "metadata": {},
     "output_type": "display_data"
    }
   ],
   "source": [
    "(raw\n",
    " .resample('M')\n",
    " .Close\n",
    " .mean()\n",
    " .plot()\n",
    " )"
   ]
  }
 ],
 "metadata": {
  "kernelspec": {
   "display_name": "env",
   "language": "python",
   "name": "python3"
  },
  "language_info": {
   "codemirror_mode": {
    "name": "ipython",
    "version": 3
   },
   "file_extension": ".py",
   "mimetype": "text/x-python",
   "name": "python",
   "nbconvert_exporter": "python",
   "pygments_lexer": "ipython3",
   "version": "3.11.3"
  },
  "orig_nbformat": 4
 },
 "nbformat": 4,
 "nbformat_minor": 2
}
